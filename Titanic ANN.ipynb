{
 "cells": [
  {
   "cell_type": "code",
   "execution_count": null,
   "id": "dc6423e6",
   "metadata": {},
   "outputs": [],
   "source": [
    "import numpy as np\n",
    "import pandas as pd\n",
    "import matplotlib.pyplot as plt\n",
    "import seaborn as sns\n",
    "import warnings\n",
    "warnings.simplefilter('ignore')"
   ]
  },
  {
   "cell_type": "code",
   "execution_count": null,
   "id": "20428fd6",
   "metadata": {},
   "outputs": [],
   "source": [
    "df = pd.read_csv('train.csv')\n",
    "df.head()"
   ]
  },
  {
   "cell_type": "code",
   "execution_count": null,
   "id": "cf9788fa",
   "metadata": {},
   "outputs": [],
   "source": [
    "df.info()"
   ]
  },
  {
   "cell_type": "code",
   "execution_count": null,
   "id": "699ee52b",
   "metadata": {},
   "outputs": [],
   "source": [
    "df.describe()"
   ]
  },
  {
   "cell_type": "code",
   "execution_count": null,
   "id": "35780736",
   "metadata": {},
   "outputs": [],
   "source": [
    "sns.pairplot(df,hue='Survived')\n",
    "plt.show()"
   ]
  },
  {
   "cell_type": "code",
   "execution_count": null,
   "id": "e4a975f4",
   "metadata": {},
   "outputs": [],
   "source": [
    "df.info()"
   ]
  },
  {
   "cell_type": "code",
   "execution_count": null,
   "id": "7325e82d",
   "metadata": {},
   "outputs": [],
   "source": [
    "df.drop(['PassengerId','Name','SibSp','Ticket','Cabin','Parch'],axis=1,inplace=True)"
   ]
  },
  {
   "cell_type": "code",
   "execution_count": null,
   "id": "c65def93",
   "metadata": {},
   "outputs": [],
   "source": [
    "df"
   ]
  },
  {
   "cell_type": "code",
   "execution_count": null,
   "id": "fcf41333",
   "metadata": {},
   "outputs": [],
   "source": [
    "df.isnull().sum()"
   ]
  },
  {
   "cell_type": "code",
   "execution_count": null,
   "id": "c0da9b6e",
   "metadata": {},
   "outputs": [],
   "source": [
    "df['Age'].fillna(df['Age'].median(),inplace=True)\n",
    "df['Embarked'].fillna(df['Embarked'].mode()[0],inplace=True)"
   ]
  },
  {
   "cell_type": "code",
   "execution_count": null,
   "id": "c15426c1",
   "metadata": {},
   "outputs": [],
   "source": [
    "df.isnull().sum()"
   ]
  },
  {
   "cell_type": "code",
   "execution_count": null,
   "id": "71d9d3e5",
   "metadata": {},
   "outputs": [],
   "source": [
    "df.duplicated().sum()"
   ]
  },
  {
   "cell_type": "code",
   "execution_count": null,
   "id": "8ceb51a7",
   "metadata": {},
   "outputs": [],
   "source": [
    "df.drop_duplicates(inplace=True)"
   ]
  },
  {
   "cell_type": "code",
   "execution_count": null,
   "id": "32210761",
   "metadata": {},
   "outputs": [],
   "source": [
    "df"
   ]
  },
  {
   "cell_type": "code",
   "execution_count": null,
   "id": "c26ba492",
   "metadata": {},
   "outputs": [],
   "source": [
    "df = pd.get_dummies(df,drop_first=True)\n",
    "df"
   ]
  },
  {
   "cell_type": "code",
   "execution_count": null,
   "id": "c7c4cd7f",
   "metadata": {},
   "outputs": [],
   "source": [
    "X = df.drop('Survived',axis=1)\n",
    "y = df['Survived']"
   ]
  },
  {
   "cell_type": "code",
   "execution_count": null,
   "id": "5f2b59ed",
   "metadata": {},
   "outputs": [],
   "source": [
    "from sklearn.model_selection import train_test_split\n",
    "X_train,X_test,y_train,y_test = train_test_split(X,y,test_size=0.2,random_state=21)"
   ]
  },
  {
   "cell_type": "code",
   "execution_count": null,
   "id": "07dc4721",
   "metadata": {},
   "outputs": [],
   "source": [
    "X_train"
   ]
  },
  {
   "cell_type": "code",
   "execution_count": null,
   "id": "26669a5e",
   "metadata": {},
   "outputs": [],
   "source": [
    "from sklearn.ensemble import RandomForestClassifier\n",
    "model1 = RandomForestClassifier(random_state=0)\n",
    "model1.fit(X_train,y_train)\n",
    "ypred_train = model1.predict(X_train)\n",
    "ypred_test = model1.predict(X_test)\n",
    "from sklearn.metrics import accuracy_score\n",
    "print('Training Accuracy:',accuracy_score(ypred_train,y_train))\n",
    "print('Test Accuracy:',accuracy_score(ypred_test,y_test))\n",
    "from sklearn.model_selection import cross_val_score\n",
    "print('Cross validation Score:',cross_val_score(model1,X,y,cv=5).mean())"
   ]
  },
  {
   "cell_type": "code",
   "execution_count": null,
   "id": "2f814876",
   "metadata": {},
   "outputs": [],
   "source": [
    "pd.DataFrame(index=X.columns,data=model1.feature_importances_,columns=['Feature Importance'])"
   ]
  },
  {
   "cell_type": "code",
   "execution_count": null,
   "id": "7a52accc",
   "metadata": {},
   "outputs": [],
   "source": [
    "from sklearn.model_selection import GridSearchCV\n",
    "estimator = RandomForestClassifier(random_state=0)\n",
    "param_grid = {'n_estimators':list(range(1,101))}\n",
    "grid = GridSearchCV(estimator,param_grid,scoring='accuracy',cv=5)\n",
    "grid.fit(X_train,y_train)"
   ]
  },
  {
   "cell_type": "code",
   "execution_count": null,
   "id": "4e60b5d4",
   "metadata": {},
   "outputs": [],
   "source": [
    "grid.best_params_"
   ]
  },
  {
   "cell_type": "code",
   "execution_count": null,
   "id": "f8eb5b03",
   "metadata": {},
   "outputs": [],
   "source": [
    "X = X.drop(['Embarked_Q','Embarked_S'],axis=1)\n",
    "X_train,X_test,y_train,y_test = train_test_split(X,y,test_size=0.2,random_state=21)\n",
    "from sklearn.ensemble import RandomForestClassifier\n",
    "model1 = RandomForestClassifier(n_estimators=82,random_state=0)\n",
    "model1.fit(X_train,y_train)\n",
    "ypred_train = model1.predict(X_train)\n",
    "ypred_test = model1.predict(X_test)\n",
    "from sklearn.metrics import accuracy_score\n",
    "print('Training Accuracy:',accuracy_score(ypred_train,y_train))\n",
    "print('Test Accuracy:',accuracy_score(ypred_test,y_test))\n",
    "from sklearn.model_selection import cross_val_score\n",
    "print('Cross validation Score:',cross_val_score(model1,X,y,cv=5).mean())"
   ]
  },
  {
   "cell_type": "code",
   "execution_count": null,
   "id": "a1129395",
   "metadata": {},
   "outputs": [],
   "source": [
    "plt.boxplot(df['Age'])\n",
    "plt.show()"
   ]
  },
  {
   "cell_type": "code",
   "execution_count": null,
   "id": "764b64fc",
   "metadata": {},
   "outputs": [],
   "source": [
    "plt.boxplot(df['Fare'])\n",
    "plt.show()"
   ]
  },
  {
   "cell_type": "code",
   "execution_count": null,
   "id": "02c72f96",
   "metadata": {},
   "outputs": [],
   "source": [
    "from feature_engine.outliers import Winsorizer\n",
    "win = Winsorizer(capping_method='iqr',tail='both',fold=1.5)\n",
    "df['Age'] = win.fit_transform(df[['Age']])\n",
    "df['Fare'] = win.fit_transform(df[['Fare']])"
   ]
  },
  {
   "cell_type": "code",
   "execution_count": null,
   "id": "f8267025",
   "metadata": {},
   "outputs": [],
   "source": [
    "plt.boxplot(df['Age'])\n",
    "plt.show()"
   ]
  },
  {
   "cell_type": "code",
   "execution_count": null,
   "id": "8aac61fe",
   "metadata": {},
   "outputs": [],
   "source": [
    "plt.boxplot(df['Fare'])\n",
    "plt.show()"
   ]
  },
  {
   "cell_type": "code",
   "execution_count": null,
   "id": "5ab231ff",
   "metadata": {},
   "outputs": [],
   "source": [
    "df"
   ]
  },
  {
   "cell_type": "code",
   "execution_count": null,
   "id": "4671601f",
   "metadata": {},
   "outputs": [],
   "source": [
    "X = df.drop('Survived',axis=1)\n",
    "y = df['Survived']"
   ]
  },
  {
   "cell_type": "code",
   "execution_count": null,
   "id": "023c8511",
   "metadata": {},
   "outputs": [],
   "source": [
    "X_train,X_test,y_train,y_test = train_test_split(X,y,test_size=0.2,random_state=21)"
   ]
  },
  {
   "cell_type": "code",
   "execution_count": null,
   "id": "c959f1de",
   "metadata": {},
   "outputs": [],
   "source": [
    "X_train"
   ]
  },
  {
   "cell_type": "code",
   "execution_count": null,
   "id": "6f5722d5",
   "metadata": {},
   "outputs": [],
   "source": [
    "model2 = RandomForestClassifier(random_state=0)\n",
    "model2.fit(X_train,y_train)\n",
    "ypred_train = model2.predict(X_train)\n",
    "ypred_test = model2.predict(X_test)\n",
    "print('Training Accuracy:',accuracy_score(ypred_train,y_train))\n",
    "print('Test Accuracy:',accuracy_score(ypred_test,y_test))\n",
    "print('Cross Validation Score:',cross_val_score(model2,X,y,cv=5).mean())"
   ]
  },
  {
   "cell_type": "code",
   "execution_count": null,
   "id": "29dd2525",
   "metadata": {},
   "outputs": [],
   "source": [
    "pd.DataFrame(index=X.columns,data=model2.feature_importances_,columns=['Feature Importance'])"
   ]
  },
  {
   "cell_type": "code",
   "execution_count": null,
   "id": "2563ab22",
   "metadata": {},
   "outputs": [],
   "source": [
    "estimator = RandomForestClassifier(random_state=0)\n",
    "param_grid = {'n_estimators':list(range(1,101))}\n",
    "grid = GridSearchCV(estimator,param_grid,scoring='accuracy',cv=5)\n",
    "grid.fit(X_train,y_train)\n",
    "grid.best_params_"
   ]
  },
  {
   "cell_type": "code",
   "execution_count": null,
   "id": "109755cd",
   "metadata": {},
   "outputs": [],
   "source": [
    "X = X.drop(['Embarked_Q','Embarked_S'],axis=1)\n",
    "X_train,X_test,y_train,y_test = train_test_split(X,y,test_size=0.2,random_state=21)\n",
    "model2 = RandomForestClassifier(n_estimators=11,random_state=0)\n",
    "model2.fit(X_train,y_train)\n",
    "ypred_train = model2.predict(X_train)\n",
    "ypred_test = model2.predict(X_test)\n",
    "from sklearn.metrics import accuracy_score\n",
    "print('Training Accuracy:',accuracy_score(ypred_train,y_train))\n",
    "print('Test Accuracy:',accuracy_score(ypred_test,y_test))\n",
    "from sklearn.model_selection import cross_val_score\n",
    "print('Cross validation Score:',cross_val_score(model2,X,y,cv=5).mean())"
   ]
  },
  {
   "cell_type": "code",
   "execution_count": null,
   "id": "90605ef8",
   "metadata": {},
   "outputs": [],
   "source": [
    "df"
   ]
  },
  {
   "cell_type": "code",
   "execution_count": null,
   "id": "21afb498",
   "metadata": {},
   "outputs": [],
   "source": [
    "df['Age'].skew()"
   ]
  },
  {
   "cell_type": "code",
   "execution_count": null,
   "id": "b61a4968",
   "metadata": {},
   "outputs": [],
   "source": [
    "df['Fare'].skew()"
   ]
  },
  {
   "cell_type": "code",
   "execution_count": null,
   "id": "86dfc3d1",
   "metadata": {},
   "outputs": [],
   "source": [
    "from scipy.stats import boxcox\n",
    "df['Fare'],param = boxcox(df['Fare']+0.0001)\n",
    "df['Fare'].skew()"
   ]
  },
  {
   "cell_type": "code",
   "execution_count": null,
   "id": "4bd72bd0",
   "metadata": {},
   "outputs": [],
   "source": [
    "X = df.drop('Survived',axis=1)\n",
    "y =df['Survived']\n",
    "X_train,X_test,y_train,y_test = train_test_split(X,y,test_size=0.2,random_state=21)"
   ]
  },
  {
   "cell_type": "code",
   "execution_count": null,
   "id": "74f11cd1",
   "metadata": {},
   "outputs": [],
   "source": [
    "X_train"
   ]
  },
  {
   "cell_type": "code",
   "execution_count": null,
   "id": "74323ce2",
   "metadata": {},
   "outputs": [],
   "source": [
    "model3 = RandomForestClassifier(random_state=0)\n",
    "model3.fit(X_train,y_train)\n",
    "ypred_train = model3.predict(X_train)\n",
    "ypred_test = model3.predict(X_test)\n",
    "print('Training Accuracy:',accuracy_score(ypred_train,y_train))\n",
    "print('Test Accuracy:',accuracy_score(ypred_test,y_test))\n",
    "print('Cross Validation Score:',cross_val_score(model3,X,y,cv=5).mean())"
   ]
  },
  {
   "cell_type": "code",
   "execution_count": null,
   "id": "5a77e969",
   "metadata": {},
   "outputs": [],
   "source": [
    "pd.DataFrame(index=X.columns,data=model3.feature_importances_,columns=['Feature Importances'])"
   ]
  },
  {
   "cell_type": "code",
   "execution_count": null,
   "id": "d9bfc98a",
   "metadata": {},
   "outputs": [],
   "source": [
    "estimator = RandomForestClassifier(random_state=0)\n",
    "param_grid = {'n_estimators':list(range(1,101))}\n",
    "grid = GridSearchCV(estimator,param_grid,scoring='accuracy',cv=5)\n",
    "grid.fit(X_train,y_train)\n",
    "grid.best_params_"
   ]
  },
  {
   "cell_type": "code",
   "execution_count": null,
   "id": "4c30aaa3",
   "metadata": {},
   "outputs": [],
   "source": [
    "X = X.drop(['Embarked_Q','Embarked_S','Pclass'],axis=1)\n",
    "X_train,X_test,y_train,y_test = train_test_split(X,y,test_size=0.2,random_state=21)\n",
    "model3 = RandomForestClassifier(n_estimators=11,random_state=0)\n",
    "model3.fit(X_train,y_train)\n",
    "ypred_train = model3.predict(X_train)\n",
    "ypred_test = model3.predict(X_test)\n",
    "from sklearn.metrics import accuracy_score\n",
    "print('Training Accuracy:',accuracy_score(ypred_train,y_train))\n",
    "print('Test Accuracy:',accuracy_score(ypred_test,y_test))\n",
    "from sklearn.model_selection import cross_val_score\n",
    "print('Cross validation Score:',cross_val_score(model3,X,y,cv=5).mean())"
   ]
  },
  {
   "cell_type": "code",
   "execution_count": null,
   "id": "a66779d0",
   "metadata": {},
   "outputs": [],
   "source": [
    "df"
   ]
  },
  {
   "cell_type": "code",
   "execution_count": null,
   "id": "68357e02",
   "metadata": {},
   "outputs": [],
   "source": [
    "X = df.drop('Survived',axis=1)"
   ]
  },
  {
   "cell_type": "code",
   "execution_count": null,
   "id": "cd860426",
   "metadata": {},
   "outputs": [],
   "source": [
    "X_train,X_test,y_train,y_test = train_test_split(X,y,test_size=0.2,random_state=21)"
   ]
  },
  {
   "cell_type": "code",
   "execution_count": null,
   "id": "36e74dac",
   "metadata": {},
   "outputs": [],
   "source": [
    "X_train"
   ]
  },
  {
   "cell_type": "code",
   "execution_count": null,
   "id": "b78376a5",
   "metadata": {},
   "outputs": [],
   "source": [
    "from sklearn.preprocessing import StandardScaler\n",
    "sc = StandardScaler()"
   ]
  },
  {
   "cell_type": "code",
   "execution_count": null,
   "id": "2cdaaa31",
   "metadata": {},
   "outputs": [],
   "source": [
    "X_train = sc.fit_transform(X_train)\n",
    "X_test = sc.transform(X_test)"
   ]
  },
  {
   "cell_type": "code",
   "execution_count": null,
   "id": "ede2fbb7",
   "metadata": {},
   "outputs": [],
   "source": [
    "model4 = RandomForestClassifier(random_state=0)\n",
    "model4.fit(X_train,y_train)\n",
    "ypred_train = model4.predict(X_train)\n",
    "ypred_test = model4.predict(X_test)\n",
    "print('Training Accuracy:',accuracy_score(ypred_train,y_train))\n",
    "print('Test Accuracy:',accuracy_score(ypred_test,y_test))\n",
    "print('Cross Validation Score:',cross_val_score(model4,X,y,cv=5).mean())"
   ]
  },
  {
   "cell_type": "code",
   "execution_count": null,
   "id": "8d519839",
   "metadata": {},
   "outputs": [],
   "source": [
    "pd.DataFrame(index=X.columns,data=model4.feature_importances_,columns=['Feature Importances'])"
   ]
  },
  {
   "cell_type": "code",
   "execution_count": null,
   "id": "15210e9f",
   "metadata": {},
   "outputs": [],
   "source": [
    "X = X.drop(['Embarked_Q','Embarked_S','Pclass'],axis=1)\n",
    "X_train,X_test,y_train,y_test = train_test_split(X,y,test_size=0.2,random_state=21)\n",
    "model4 = RandomForestClassifier(n_estimators=11,random_state=0)\n",
    "model4.fit(X_train,y_train)\n",
    "ypred_train = model4.predict(X_train)\n",
    "ypred_test = model4.predict(X_test)\n",
    "from sklearn.metrics import accuracy_score\n",
    "print('Training Accuracy:',accuracy_score(ypred_train,y_train))\n",
    "print('Test Accuracy:',accuracy_score(ypred_test,y_test))\n",
    "from sklearn.model_selection import cross_val_score\n",
    "print('Cross validation Score:',cross_val_score(model4,X,y,cv=5).mean())"
   ]
  },
  {
   "cell_type": "code",
   "execution_count": null,
   "id": "232c7b31",
   "metadata": {},
   "outputs": [],
   "source": [
    "Train = []\n",
    "Test = []\n",
    "CV = []\n",
    "\n",
    "for i in range(0,101):\n",
    "    X_train,X_test,y_train,y_test = train_test_split(X,y,test_size=0.2,random_state=i)\n",
    "    model = RandomForestClassifier(random_state=0)\n",
    "    model.fit(X_train,y_train)\n",
    "    ypred_train = model.predict(X_train)\n",
    "    ypred_test = model.predict(X_test)\n",
    "    Train.append(accuracy_score(y_train,ypred_train))\n",
    "    Test.append(accuracy_score(y_test,ypred_test))\n",
    "    CV.append(cross_val_score(model,X,y,cv=5).mean())\n",
    "    \n",
    "em = pd.DataFrame({'Train':Train,'Test':Test,'CV':CV})\n",
    "gm = em[(abs(em['Train']-em['Test'])<=0.05) & (abs(em['Test']-em['CV'])<=0.05)]\n",
    "gm[gm['Test']==gm['Test'].max()].index.to_list()"
   ]
  },
  {
   "cell_type": "code",
   "execution_count": null,
   "id": "0bf624cd",
   "metadata": {},
   "outputs": [],
   "source": []
  }
 ],
 "metadata": {
  "kernelspec": {
   "display_name": "Python 3 (ipykernel)",
   "language": "python",
   "name": "python3"
  },
  "language_info": {
   "codemirror_mode": {
    "name": "ipython",
    "version": 3
   },
   "file_extension": ".py",
   "mimetype": "text/x-python",
   "name": "python",
   "nbconvert_exporter": "python",
   "pygments_lexer": "ipython3",
   "version": "3.9.13"
  }
 },
 "nbformat": 4,
 "nbformat_minor": 5
}
